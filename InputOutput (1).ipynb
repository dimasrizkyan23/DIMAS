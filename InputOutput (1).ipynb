{
 "cells": [
  {
   "cell_type": "code",
   "execution_count": 1,
   "id": "1efe1c71",
   "metadata": {},
   "outputs": [
    {
     "name": "stdout",
     "output_type": "stream",
     "text": [
      "Isikan Nama Awaldimas\n",
      "Isikan Nama Tengahrizkyan\n",
      " isikan Nama Akhirdermawan\n",
      "selamat datang dimas rizkyan dermawan S.kom\n"
     ]
    }
   ],
   "source": [
    "fname = input ('Isikan Nama Awal')\n",
    "mname = input ('Isikan Nama Tengah')\n",
    "Iname = input (' isikan Nama Akhir')\n",
    "\n",
    "print ('selamat datang', fname,mname,Iname,\"S.kom\")\n"
   ]
  },
  {
   "cell_type": "code",
   "execution_count": 3,
   "id": "9036235b",
   "metadata": {},
   "outputs": [
    {
     "name": "stdout",
     "output_type": "stream",
     "text": [
      "isikan Bilangan 1:5\n",
      "isikan Bilangan 2:3\n",
      "<class 'str'>\n",
      "Hasil Penjumlahan 8\n"
     ]
    }
   ],
   "source": [
    "bil1 = input('isikan Bilangan 1:')\n",
    "bil2 = input('isikan Bilangan 2:')\n",
    "print(type(bil1))\n",
    "hasil = int(bil1) + int (bil2)\n",
    "print('Hasil Penjumlahan',hasil)\n"
   ]
  },
  {
   "cell_type": "code",
   "execution_count": 4,
   "id": "3e1b12de",
   "metadata": {},
   "outputs": [
    {
     "name": "stdout",
     "output_type": "stream",
     "text": [
      "isikan Panjang persegi14\n",
      "isikan Lebar Persegi15\n",
      "Luas Persegi Panjang 14\n",
      "keliling Persegi Panjang 30\n"
     ]
    }
   ],
   "source": [
    "#luas => p * l\n",
    "#keliling => 2 * (p+l)\n",
    "\n",
    "p = input('isikan Panjang persegi')\n",
    "l = input('isikan Lebar Persegi')\n",
    "\n",
    "luas = int(p) * int(1)\n",
    "keliling = 2 * (int(p) +int(1))\n",
    "\n",
    "print('Luas Persegi Panjang',luas)\n",
    "print('keliling Persegi Panjang',keliling)"
   ]
  },
  {
   "cell_type": "markdown",
   "id": "24cfafd1",
   "metadata": {},
   "source": []
  },
  {
   "cell_type": "code",
   "execution_count": 9,
   "id": "335640da",
   "metadata": {},
   "outputs": [
    {
     "name": "stdout",
     "output_type": "stream",
     "text": [
      "Senin@Selasa@Rabu@Kamis@jumat@Sabtu@Minggu^_^One\n",
      "Two\n",
      "Three\n",
      "Four\n"
     ]
    }
   ],
   "source": [
    "print(\"Senin\",\"Selasa\",\"Rabu\",\"Kamis\",\"jumat\",\"Sabtu\",\"Minggu\",sep=\"@\",end=\"^_^\")\n",
    "print(\"One\",\"Two\", \"Three\",\"Four\",sep=\"\\n\")"
   ]
  },
  {
   "cell_type": "code",
   "execution_count": 10,
   "id": "7d7b60b2",
   "metadata": {},
   "outputs": [
    {
     "name": "stdout",
     "output_type": "stream",
     "text": [
      "perkenalan 7 dengan 10 adalah 70\n"
     ]
    }
   ],
   "source": [
    "number1 = 7\n",
    "number2 = 10\n",
    "\n",
    "# hasil perkalian 7 dengan 10 adalah 70\n",
    "print(\"perkenalan {} dengan {} adalah {}\".format(number1,number2,number1 * number2))\n"
   ]
  },
  {
   "cell_type": "code",
   "execution_count": 15,
   "id": "bfceb4f0",
   "metadata": {},
   "outputs": [
    {
     "name": "stdout",
     "output_type": "stream",
     "text": [
      "urutan huruf CBA\n"
     ]
    }
   ],
   "source": [
    "first_letter = \"A\"\n",
    "middle_letter = \"B\"\n",
    "last_letter = \"C\"\n",
    "\n",
    "print(\"urutan huruf {2}{1}{0}\".format(first_letter,middle_letter,last_letter))"
   ]
  },
  {
   "cell_type": "code",
   "execution_count": 21,
   "id": "7a2d3ad2",
   "metadata": {},
   "outputs": [
    {
     "name": "stdout",
     "output_type": "stream",
     "text": [
      "sekarang tanggal 20 Bulan Maret Tahun 2024\n"
     ]
    }
   ],
   "source": [
    "# sekarang tanggal 20 Bulan Maret Tahun 2024\n",
    "print(\"sekarang tanggal {tanggal} Bulan {bulan} Tahun {tahun}\".format(tanggal = 20,bulan=\"Maret\",tahun=2024))"
   ]
  },
  {
   "cell_type": "code",
   "execution_count": 23,
   "id": "85b3e98e",
   "metadata": {},
   "outputs": [
    {
     "name": "stdout",
     "output_type": "stream",
     "text": [
      "Huruf pertama adalah: U\n",
      "Huruf Terakhir adalah: a\n",
      "Huruf Range 0-10: Universitas\n",
      "Putra\n",
      "Nusa Putra\n",
      "artuP asuN satisrevinU\n"
     ]
    }
   ],
   "source": [
    "kampus = \"Universitas Nusa Putra\"\n",
    "print(\"Huruf pertama adalah:\",kampus[0])\n",
    "print(\"Huruf Terakhir adalah:\",kampus [-1])\n",
    "print(\"Huruf Range 0-10:\",kampus[0:11])\n",
    "print(kampus[-5:])\n",
    "print(kampus[12:])\n",
    "#Reserve String\n",
    "print(kampus[::-1])"
   ]
  },
  {
   "cell_type": "code",
   "execution_count": 26,
   "id": "16a0d13a",
   "metadata": {},
   "outputs": [
    {
     "name": "stdout",
     "output_type": "stream",
     "text": [
      "['Jakarta', 'Sukabumi', 'Malang', 'Bandung', 'Surabaya']\n",
      "Jakarta\n",
      "Jakarta@Sukabumi@Malang@Bandung@Surabaya\n"
     ]
    }
   ],
   "source": [
    "#Split => String -> list\n",
    "kota = \"Jakarta Sukabumi Malang Bandung Surabaya\"\n",
    "list_kota = kota.split()\n",
    "print(list_kota)\n",
    "print(list_kota[0])\n",
    "#join -> list -> string\n",
    "join_kota = \"@\".join(list_kota)\n",
    "print(join_kota)"
   ]
  },
  {
   "cell_type": "code",
   "execution_count": 31,
   "id": "1676c6eb",
   "metadata": {},
   "outputs": [
    {
     "name": "stdout",
     "output_type": "stream",
     "text": [
      "isikan nama anda:dimas rizkyan\n",
      "isikan tanggal lahir2004\n",
      "Nama Awal : dimas\n",
      "Nama Akhir : rizkyan\n",
      "Nama Inisial : dr\n"
     ]
    }
   ],
   "source": [
    "# isikan nama : Dimas Rizkyan\n",
    "# isikaan tanggal lahir : 27/06/2004\n",
    "# output : \n",
    "# Nama Awal : Dimas \n",
    "# Nama Akhir : Rizkyan\n",
    "# Tgl Lahir : 9\n",
    "# Bulan Lahir  09\n",
    "# tahun lahir : 1999\n",
    "# Nama Inisial : DR\n",
    "\n",
    "nama = input(\"isikan nama anda:\")\n",
    "tgl = input(\"isikan tanggal lahir\")\n",
    "\n",
    "list_nama = nama.split()\n",
    "print(\"Nama Awal :\", list_nama [0])\n",
    "print(\"Nama Akhir :\", list_nama[1])\n",
    "print(\"Nama Inisial :\", list_nama[0][0] + list_nama[1][0])"
   ]
  },
  {
   "cell_type": "code",
   "execution_count": null,
   "id": "70c7105d",
   "metadata": {},
   "outputs": [],
   "source": []
  }
 ],
 "metadata": {
  "kernelspec": {
   "display_name": "Python 3 (ipykernel)",
   "language": "python",
   "name": "python3"
  },
  "language_info": {
   "codemirror_mode": {
    "name": "ipython",
    "version": 3
   },
   "file_extension": ".py",
   "mimetype": "text/x-python",
   "name": "python",
   "nbconvert_exporter": "python",
   "pygments_lexer": "ipython3",
   "version": "3.9.12"
  }
 },
 "nbformat": 4,
 "nbformat_minor": 5
}
