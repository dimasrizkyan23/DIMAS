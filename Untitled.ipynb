{
 "cells": [
  {
   "cell_type": "code",
   "execution_count": 3,
   "id": "23db689b",
   "metadata": {},
   "outputs": [
    {
     "name": "stdout",
     "output_type": "stream",
     "text": [
      "isikan bilangan:7\n",
      "(nilai) adalah bilangan ganjil\n"
     ]
    }
   ],
   "source": [
    "nilai = int(input('isikan bilangan:'))\n",
    "sisa_bagi = nilai % 2\n",
    "\n",
    "if sisa_bagi ==0:\n",
    "    print(nilai,\"adalang bilangan ganjil\")\n",
    "else:\n",
    "    print(f\"(nilai) adalah bilangan ganjil\")\n",
    "        "
   ]
  },
  {
   "cell_type": "code",
   "execution_count": 1,
   "id": "782300a6",
   "metadata": {},
   "outputs": [
    {
     "name": "stdout",
     "output_type": "stream",
     "text": [
      "isikan nilai pemrogpraman mahasiswa100\n",
      "nilai huruf mahasiswa A\n"
     ]
    }
   ],
   "source": [
    "# 0 - 49 => E\n",
    "# 50 - 59 => D\n",
    "# 60 - 69 => C\n",
    "# 70 - 100 => A\n",
    "\n",
    "nilai_mhs = int(input('isikan nilai pemrogpraman mahasiswa'))\n",
    "keterangan=\"\"\n",
    "if nilai_mhs >=0 and nilai_mhs < 50:\n",
    "    keterangan = \"E\"\n",
    "elif nilai_mhs >=50 and nilai_mhs < 60:\n",
    "    keteranganm = \"D\"\n",
    "elif nilai_mhs >=60 and nilai_mhs < 70:\n",
    "    keteranganm = \"C\"\n",
    "elif nilai_mhs >=70 and nilai_mhs < 85:\n",
    "    keteranganm = \"B\"\n",
    "elif nilai_mhs >=85 and nilai_mhs < 101:\n",
    "    keterangan = \"A\"\n",
    "    \n",
    "print(\"nilai huruf mahasiswa\", keterangan)\n",
    "    \n",
    "\n",
    "\n",
    "    "
   ]
  },
  {
   "cell_type": "code",
   "execution_count": null,
   "id": "75c10b68",
   "metadata": {},
   "outputs": [],
   "source": []
  },
  {
   "cell_type": "code",
   "execution_count": 9,
   "id": "641b471e",
   "metadata": {},
   "outputs": [
    {
     "data": {
      "text/plain": [
       "100"
      ]
     },
     "execution_count": 9,
     "metadata": {},
     "output_type": "execute_result"
    }
   ],
   "source": [
    "100"
   ]
  },
  {
   "cell_type": "code",
   "execution_count": null,
   "id": "5f6d7720",
   "metadata": {},
   "outputs": [],
   "source": []
  }
 ],
 "metadata": {
  "kernelspec": {
   "display_name": "Python 3 (ipykernel)",
   "language": "python",
   "name": "python3"
  },
  "language_info": {
   "codemirror_mode": {
    "name": "ipython",
    "version": 3
   },
   "file_extension": ".py",
   "mimetype": "text/x-python",
   "name": "python",
   "nbconvert_exporter": "python",
   "pygments_lexer": "ipython3",
   "version": "3.9.12"
  }
 },
 "nbformat": 4,
 "nbformat_minor": 5
}
